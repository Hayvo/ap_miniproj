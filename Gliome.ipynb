{
 "cells": [
  {
   "cell_type": "markdown",
   "metadata": {},
   "source": [
    "# __Mini Projet Apprentissage Artificiel__ "
   ]
  },
  {
   "cell_type": "markdown",
   "metadata": {},
   "source": [
    "We start by importing all the modules we will use in this notebook.\n",
    "We will use __sklearn__ as our main framework for ML."
   ]
  },
  {
   "cell_type": "code",
   "execution_count": 22,
   "metadata": {},
   "outputs": [],
   "source": [
    "import numpy as np\n",
    "import pandas as pd \n",
    "import scipy.io\n",
    "import sklearn\n",
    "from matplotlib import pyplot as plt\n",
    "from urllib.request import urlretrieve\n",
    "import zipfile\n",
    "from sklearn.metrics import classification_report\n",
    "from sklearn.metrics import confusion_matrix"
   ]
  },
  {
   "cell_type": "markdown",
   "metadata": {},
   "source": [
    "We then load our data and vizualize it."
   ]
  },
  {
   "cell_type": "code",
   "execution_count": 9,
   "metadata": {},
   "outputs": [
    {
     "name": "stdout",
     "output_type": "stream",
     "text": [
      "The data has the dimension : \n",
      " • Input size : (50, 4434) \n",
      " • Output size : (50,)\n"
     ]
    }
   ],
   "source": [
    "# path = \"./Projet_Expression.zip\"\n",
    "# urlretrieve(\"https://moodle.psl.eu/pluginfile.php/614743/mod_resource/content/14/Projet_Expression.zip\",path)\n",
    "# with zipfile.ZipFile(path,'r') as zip_ref:\n",
    "#     zip_ref.extractall(\"./Projet_Expression\")\n",
    "\n",
    "data_matrix = scipy.io.loadmat(\"./gliome.mat\")\n",
    "X = data_matrix['X']\n",
    "y = data_matrix['Y'][:, 0] \n",
    "\n",
    "print(f\"The data has the dimension : \\n • Input size : {X.shape} \\n • Output size : {y.shape}\")"
   ]
  },
  {
   "cell_type": "code",
   "execution_count": 10,
   "metadata": {},
   "outputs": [
    {
     "data": {
      "text/html": [
       "<div>\n",
       "<style scoped>\n",
       "    .dataframe tbody tr th:only-of-type {\n",
       "        vertical-align: middle;\n",
       "    }\n",
       "\n",
       "    .dataframe tbody tr th {\n",
       "        vertical-align: top;\n",
       "    }\n",
       "\n",
       "    .dataframe thead th {\n",
       "        text-align: right;\n",
       "    }\n",
       "</style>\n",
       "<table border=\"1\" class=\"dataframe\">\n",
       "  <thead>\n",
       "    <tr style=\"text-align: right;\">\n",
       "      <th></th>\n",
       "      <th>0</th>\n",
       "      <th>1</th>\n",
       "      <th>2</th>\n",
       "      <th>3</th>\n",
       "      <th>4</th>\n",
       "      <th>5</th>\n",
       "      <th>6</th>\n",
       "      <th>7</th>\n",
       "      <th>8</th>\n",
       "      <th>9</th>\n",
       "      <th>...</th>\n",
       "      <th>4425</th>\n",
       "      <th>4426</th>\n",
       "      <th>4427</th>\n",
       "      <th>4428</th>\n",
       "      <th>4429</th>\n",
       "      <th>4430</th>\n",
       "      <th>4431</th>\n",
       "      <th>4432</th>\n",
       "      <th>4433</th>\n",
       "      <th>y</th>\n",
       "    </tr>\n",
       "  </thead>\n",
       "  <tbody>\n",
       "    <tr>\n",
       "      <th>0</th>\n",
       "      <td>1.877947</td>\n",
       "      <td>1.301030</td>\n",
       "      <td>1.950365</td>\n",
       "      <td>2.765147</td>\n",
       "      <td>2.383456</td>\n",
       "      <td>1.935003</td>\n",
       "      <td>1.805501</td>\n",
       "      <td>1.489958</td>\n",
       "      <td>1.949878</td>\n",
       "      <td>1.984977</td>\n",
       "      <td>...</td>\n",
       "      <td>3.593485</td>\n",
       "      <td>1.686636</td>\n",
       "      <td>1.301030</td>\n",
       "      <td>1.309630</td>\n",
       "      <td>2.062958</td>\n",
       "      <td>1.332438</td>\n",
       "      <td>2.113275</td>\n",
       "      <td>2.609381</td>\n",
       "      <td>3.687966</td>\n",
       "      <td>1</td>\n",
       "    </tr>\n",
       "    <tr>\n",
       "      <th>1</th>\n",
       "      <td>2.651036</td>\n",
       "      <td>2.290211</td>\n",
       "      <td>2.436589</td>\n",
       "      <td>2.427530</td>\n",
       "      <td>2.818690</td>\n",
       "      <td>2.228490</td>\n",
       "      <td>2.174424</td>\n",
       "      <td>2.106459</td>\n",
       "      <td>2.091490</td>\n",
       "      <td>2.137432</td>\n",
       "      <td>...</td>\n",
       "      <td>3.498401</td>\n",
       "      <td>2.493015</td>\n",
       "      <td>1.766260</td>\n",
       "      <td>1.869179</td>\n",
       "      <td>2.238474</td>\n",
       "      <td>1.301030</td>\n",
       "      <td>1.929475</td>\n",
       "      <td>2.519645</td>\n",
       "      <td>3.951704</td>\n",
       "      <td>1</td>\n",
       "    </tr>\n",
       "    <tr>\n",
       "      <th>2</th>\n",
       "      <td>2.221108</td>\n",
       "      <td>2.302321</td>\n",
       "      <td>3.045137</td>\n",
       "      <td>2.438125</td>\n",
       "      <td>2.462685</td>\n",
       "      <td>1.971209</td>\n",
       "      <td>2.288998</td>\n",
       "      <td>1.436299</td>\n",
       "      <td>2.041398</td>\n",
       "      <td>2.232764</td>\n",
       "      <td>...</td>\n",
       "      <td>3.586848</td>\n",
       "      <td>2.300823</td>\n",
       "      <td>1.886583</td>\n",
       "      <td>1.806535</td>\n",
       "      <td>1.301030</td>\n",
       "      <td>1.861657</td>\n",
       "      <td>1.301030</td>\n",
       "      <td>1.301030</td>\n",
       "      <td>3.705766</td>\n",
       "      <td>1</td>\n",
       "    </tr>\n",
       "    <tr>\n",
       "      <th>3</th>\n",
       "      <td>2.168830</td>\n",
       "      <td>2.125105</td>\n",
       "      <td>2.993723</td>\n",
       "      <td>2.253585</td>\n",
       "      <td>2.675738</td>\n",
       "      <td>2.120541</td>\n",
       "      <td>2.464906</td>\n",
       "      <td>1.484127</td>\n",
       "      <td>1.978128</td>\n",
       "      <td>2.364278</td>\n",
       "      <td>...</td>\n",
       "      <td>3.498593</td>\n",
       "      <td>2.439544</td>\n",
       "      <td>1.881537</td>\n",
       "      <td>1.934864</td>\n",
       "      <td>1.301030</td>\n",
       "      <td>1.301030</td>\n",
       "      <td>1.301030</td>\n",
       "      <td>1.838071</td>\n",
       "      <td>3.826369</td>\n",
       "      <td>1</td>\n",
       "    </tr>\n",
       "    <tr>\n",
       "      <th>4</th>\n",
       "      <td>2.575785</td>\n",
       "      <td>1.705988</td>\n",
       "      <td>2.513637</td>\n",
       "      <td>2.906606</td>\n",
       "      <td>2.578367</td>\n",
       "      <td>2.200210</td>\n",
       "      <td>2.367455</td>\n",
       "      <td>1.959123</td>\n",
       "      <td>1.897500</td>\n",
       "      <td>1.956192</td>\n",
       "      <td>...</td>\n",
       "      <td>3.437832</td>\n",
       "      <td>2.224660</td>\n",
       "      <td>1.593090</td>\n",
       "      <td>1.761575</td>\n",
       "      <td>1.301030</td>\n",
       "      <td>1.602045</td>\n",
       "      <td>1.410159</td>\n",
       "      <td>1.847608</td>\n",
       "      <td>4.082294</td>\n",
       "      <td>1</td>\n",
       "    </tr>\n",
       "  </tbody>\n",
       "</table>\n",
       "<p>5 rows × 4435 columns</p>\n",
       "</div>"
      ],
      "text/plain": [
       "          0         1         2         3         4         5         6  \\\n",
       "0  1.877947  1.301030  1.950365  2.765147  2.383456  1.935003  1.805501   \n",
       "1  2.651036  2.290211  2.436589  2.427530  2.818690  2.228490  2.174424   \n",
       "2  2.221108  2.302321  3.045137  2.438125  2.462685  1.971209  2.288998   \n",
       "3  2.168830  2.125105  2.993723  2.253585  2.675738  2.120541  2.464906   \n",
       "4  2.575785  1.705988  2.513637  2.906606  2.578367  2.200210  2.367455   \n",
       "\n",
       "          7         8         9  ...      4425      4426      4427      4428  \\\n",
       "0  1.489958  1.949878  1.984977  ...  3.593485  1.686636  1.301030  1.309630   \n",
       "1  2.106459  2.091490  2.137432  ...  3.498401  2.493015  1.766260  1.869179   \n",
       "2  1.436299  2.041398  2.232764  ...  3.586848  2.300823  1.886583  1.806535   \n",
       "3  1.484127  1.978128  2.364278  ...  3.498593  2.439544  1.881537  1.934864   \n",
       "4  1.959123  1.897500  1.956192  ...  3.437832  2.224660  1.593090  1.761575   \n",
       "\n",
       "       4429      4430      4431      4432      4433  y  \n",
       "0  2.062958  1.332438  2.113275  2.609381  3.687966  1  \n",
       "1  2.238474  1.301030  1.929475  2.519645  3.951704  1  \n",
       "2  1.301030  1.861657  1.301030  1.301030  3.705766  1  \n",
       "3  1.301030  1.301030  1.301030  1.838071  3.826369  1  \n",
       "4  1.301030  1.602045  1.410159  1.847608  4.082294  1  \n",
       "\n",
       "[5 rows x 4435 columns]"
      ]
     },
     "execution_count": 10,
     "metadata": {},
     "output_type": "execute_result"
    }
   ],
   "source": [
    "df = pd.DataFrame(X)\n",
    "df['y'] = y\n",
    "df.head()"
   ]
  },
  {
   "cell_type": "markdown",
   "metadata": {},
   "source": [
    "This problem is a supervised classification problem. \n",
    "We will try 2 different models to classify our data into 4 differents classes (gliome types)\n",
    "\n",
    "First we need to split our data into 3 sets : Train, Validation, Test\n",
    "In order to compare performances on different training set, we will generate 2 triplets of sets."
   ]
  },
  {
   "cell_type": "code",
   "execution_count": 13,
   "metadata": {},
   "outputs": [],
   "source": [
    "from sklearn.model_selection import train_test_split\n",
    "\n",
    "X_train_1, X_test_1, y_train_1, y_test_1 = train_test_split(X, y, test_size=0.3,random_state=84, stratify=y)\n",
    "# X_train_1, X_valid_1, y_train_1, y_valid_1 = train_test_split(X_temp_1, y_temp_1, test_size= 0.3)\n",
    "\n",
    "X_train_2, X_test_2, y_train_2, y_test_2 = train_test_split(X, y, test_size=0.3,random_state=16, stratify=y)\n",
    "# X_train_2, X_valid_2, y_train_2, y_valid_2 = train_test_split(X_temp_1, y_temp_1, test_size= 0.3)"
   ]
  },
  {
   "cell_type": "code",
   "execution_count": 14,
   "metadata": {},
   "outputs": [
    {
     "data": {
      "text/plain": [
       "Text(0.5, 0, 'Train Labels 2')"
      ]
     },
     "execution_count": 14,
     "metadata": {},
     "output_type": "execute_result"
    },
    {
     "data": {
      "image/png": "[encoded data removed]",
      "text/plain": [
       "<Figure size 640x480 with 4 Axes>"
      ]
     },
     "metadata": {},
     "output_type": "display_data"
    }
   ],
   "source": [
    "plt.subplot(2, 2, 1)\n",
    "plt.hist(y_test_1)\n",
    "plt.xlabel('Test Labels 1')\n",
    "plt.subplot(2, 2, 2)\n",
    "plt.hist(y_train_1)\n",
    "plt.xlabel('Train Labels 1')\n",
    "plt.subplot(2, 2, 3)\n",
    "plt.hist(y_test_2)\n",
    "plt.xlabel('Test Labels 2')\n",
    "plt.subplot(2, 2, 4)\n",
    "plt.hist(y_train_2)\n",
    "plt.xlabel('Train Labels 2')"
   ]
  },
  {
   "cell_type": "markdown",
   "metadata": {},
   "source": [
    "\n",
    "### Random Forest Decision Tree Classifier (RFD)"
   ]
  },
  {
   "cell_type": "code",
   "execution_count": 19,
   "metadata": {},
   "outputs": [],
   "source": [
    "from sklearn.ensemble import RandomForestClassifier\n",
    "from sklearn import tree\n",
    "\n",
    "clf = tree.DecisionTreeClassifier(criterion='gini', splitter='best', max_depth=5, \n",
    "                                  min_samples_split=2, min_samples_leaf=1, \n",
    "                                  min_weight_fraction_leaf=0.0, max_features=None, \n",
    "                                  random_state=None, max_leaf_nodes=None, \n",
    "                                  min_impurity_decrease=1e-07, class_weight=None)"
   ]
  },
  {
   "cell_type": "code",
   "execution_count": 46,
   "metadata": {},
   "outputs": [
    {
     "name": "stdout",
     "output_type": "stream",
     "text": [
      "RESULTS ON FIRST SET TRAIN/TEST\n",
      "DecisionTreeClassifier(max_depth=5, min_impurity_decrease=1e-07)\n",
      "Acuracy (on test set) =  0.8666666666666667\n",
      "              precision    recall  f1-score   support\n",
      "\n",
      "           1       1.00      1.00      1.00         4\n",
      "           2       1.00      1.00      1.00         2\n",
      "           3       1.00      0.50      0.67         4\n",
      "           4       0.71      1.00      0.83         5\n",
      "\n",
      "    accuracy                           0.87        15\n",
      "   macro avg       0.93      0.88      0.88        15\n",
      "weighted avg       0.90      0.87      0.86        15\n",
      "\n",
      "\n",
      " CONFUSION MATRIX\n",
      "[[4 0 0 0]\n",
      " [0 2 0 0]\n",
      " [0 0 2 2]\n",
      " [0 0 0 5]]\n"
     ]
    }
   ],
   "source": [
    "print(\"RESULTS ON FIRST SET TRAIN/TEST\")\n",
    "print(clf)\n",
    "clf = clf.fit(X_train_1, y_train_1)\n",
    "score = clf.score(X_test_1, y_test_1)\n",
    "print(\"Acuracy (on test set) = \", score)\n",
    "y_true, y_pred = y_test_1, clf.predict(X_test_1)\n",
    "print( classification_report(y_true, y_pred) )\n",
    "print(\"\\n CONFUSION MATRIX\")\n",
    "print( confusion_matrix(y_true, y_pred) )"
   ]
  },
  {
   "cell_type": "code",
   "execution_count": 24,
   "metadata": {},
   "outputs": [
    {
     "name": "stdout",
     "output_type": "stream",
     "text": [
      "RESULTS ON SECOND SET TRAIN/TEST\n",
      "DecisionTreeClassifier(max_depth=5, min_impurity_decrease=1e-07)\n",
      "Acuracy (on test set) =  0.4\n",
      "              precision    recall  f1-score   support\n",
      "\n",
      "           1       0.60      0.75      0.67         4\n",
      "           2       1.00      0.50      0.67         2\n",
      "           3       0.25      0.25      0.25         4\n",
      "           4       0.20      0.20      0.20         5\n",
      "\n",
      "    accuracy                           0.40        15\n",
      "   macro avg       0.51      0.42      0.45        15\n",
      "weighted avg       0.43      0.40      0.40        15\n",
      "\n",
      "\n",
      " CONFUSION MATRIX\n",
      "[[3 0 0 1]\n",
      " [1 1 0 0]\n",
      " [0 0 1 3]\n",
      " [1 0 3 1]]\n"
     ]
    }
   ],
   "source": [
    "print(\"RESULTS ON SECOND SET TRAIN/TEST\")\n",
    "print(clf)\n",
    "clf = clf.fit(X_train_2, y_train_2)\n",
    "score = clf.score(X_test_2, y_test_2)\n",
    "print(\"Acuracy (on test set) = \", score)\n",
    "y_true, y_pred = y_test_2, clf.predict(X_test_2)\n",
    "print( classification_report(y_true, y_pred) )\n",
    "print(\"\\n CONFUSION MATRIX\")\n",
    "print( confusion_matrix(y_true, y_pred) )"
   ]
  },
  {
   "cell_type": "code",
   "execution_count": 16,
   "metadata": {},
   "outputs": [
    {
     "name": "stderr",
     "output_type": "stream",
     "text": [
      "c:\\Users\\pierr\\miniconda3\\Lib\\site-packages\\sklearn\\model_selection\\_validation.py:425: FitFailedWarning: \n",
      "4096 fits failed out of a total of 5120.\n",
      "The score on these train-test partitions for these parameters will be set to nan.\n",
      "If these failures are not expected, you can try to debug them by setting error_score='raise'.\n",
      "\n",
      "Below are more details about the failures:\n",
      "--------------------------------------------------------------------------------\n",
      "2560 fits failed with the following error:\n",
      "Traceback (most recent call last):\n",
      "  File \"c:\\Users\\pierr\\miniconda3\\Lib\\site-packages\\sklearn\\model_selection\\_validation.py\", line 729, in _fit_and_score\n",
      "    estimator.fit(X_train, y_train, **fit_params)\n",
      "  File \"c:\\Users\\pierr\\miniconda3\\Lib\\site-packages\\sklearn\\base.py\", line 1145, in wrapper\n",
      "    estimator._validate_params()\n",
      "  File \"c:\\Users\\pierr\\miniconda3\\Lib\\site-packages\\sklearn\\base.py\", line 638, in _validate_params\n",
      "    validate_parameter_constraints(\n",
      "  File \"c:\\Users\\pierr\\miniconda3\\Lib\\site-packages\\sklearn\\utils\\_param_validation.py\", line 96, in validate_parameter_constraints\n",
      "    raise InvalidParameterError(\n",
      "sklearn.utils._param_validation.InvalidParameterError: The 'min_samples_split' parameter of DecisionTreeClassifier must be an int in the range [2, inf) or a float in the range (0.0, 1.0]. Got 1 instead.\n",
      "\n",
      "--------------------------------------------------------------------------------\n",
      "512 fits failed with the following error:\n",
      "Traceback (most recent call last):\n",
      "  File \"c:\\Users\\pierr\\miniconda3\\Lib\\site-packages\\sklearn\\model_selection\\_validation.py\", line 729, in _fit_and_score\n",
      "    estimator.fit(X_train, y_train, **fit_params)\n",
      "  File \"c:\\Users\\pierr\\miniconda3\\Lib\\site-packages\\sklearn\\base.py\", line 1145, in wrapper\n",
      "    estimator._validate_params()\n",
      "  File \"c:\\Users\\pierr\\miniconda3\\Lib\\site-packages\\sklearn\\base.py\", line 638, in _validate_params\n",
      "    validate_parameter_constraints(\n",
      "  File \"c:\\Users\\pierr\\miniconda3\\Lib\\site-packages\\sklearn\\utils\\_param_validation.py\", line 96, in validate_parameter_constraints\n",
      "    raise InvalidParameterError(\n",
      "sklearn.utils._param_validation.InvalidParameterError: The 'min_weight_fraction_leaf' parameter of DecisionTreeClassifier must be a float in the range [0.0, 0.5]. Got 3.1622776601683795 instead.\n",
      "\n",
      "--------------------------------------------------------------------------------\n",
      "512 fits failed with the following error:\n",
      "Traceback (most recent call last):\n",
      "  File \"c:\\Users\\pierr\\miniconda3\\Lib\\site-packages\\sklearn\\model_selection\\_validation.py\", line 729, in _fit_and_score\n",
      "    estimator.fit(X_train, y_train, **fit_params)\n",
      "  File \"c:\\Users\\pierr\\miniconda3\\Lib\\site-packages\\sklearn\\base.py\", line 1145, in wrapper\n",
      "    estimator._validate_params()\n",
      "  File \"c:\\Users\\pierr\\miniconda3\\Lib\\site-packages\\sklearn\\base.py\", line 638, in _validate_params\n",
      "    validate_parameter_constraints(\n",
      "  File \"c:\\Users\\pierr\\miniconda3\\Lib\\site-packages\\sklearn\\utils\\_param_validation.py\", line 96, in validate_parameter_constraints\n",
      "    raise InvalidParameterError(\n",
      "sklearn.utils._param_validation.InvalidParameterError: The 'min_weight_fraction_leaf' parameter of DecisionTreeClassifier must be a float in the range [0.0, 0.5]. Got 56.23413251903491 instead.\n",
      "\n",
      "--------------------------------------------------------------------------------\n",
      "512 fits failed with the following error:\n",
      "Traceback (most recent call last):\n",
      "  File \"c:\\Users\\pierr\\miniconda3\\Lib\\site-packages\\sklearn\\model_selection\\_validation.py\", line 729, in _fit_and_score\n",
      "    estimator.fit(X_train, y_train, **fit_params)\n",
      "  File \"c:\\Users\\pierr\\miniconda3\\Lib\\site-packages\\sklearn\\base.py\", line 1145, in wrapper\n",
      "    estimator._validate_params()\n",
      "  File \"c:\\Users\\pierr\\miniconda3\\Lib\\site-packages\\sklearn\\base.py\", line 638, in _validate_params\n",
      "    validate_parameter_constraints(\n",
      "  File \"c:\\Users\\pierr\\miniconda3\\Lib\\site-packages\\sklearn\\utils\\_param_validation.py\", line 96, in validate_parameter_constraints\n",
      "    raise InvalidParameterError(\n",
      "sklearn.utils._param_validation.InvalidParameterError: The 'min_weight_fraction_leaf' parameter of DecisionTreeClassifier must be a float in the range [0.0, 0.5]. Got 1000.0 instead.\n",
      "\n",
      "  warnings.warn(some_fits_failed_message, FitFailedWarning)\n",
      "c:\\Users\\pierr\\miniconda3\\Lib\\site-packages\\sklearn\\model_selection\\_search.py:979: UserWarning: One or more of the test scores are non-finite: [nan nan nan ... nan nan nan]\n",
      "  warnings.warn(\n"
     ]
    },
    {
     "data": {
      "text/html": [
       "<style>#sk-container-id-1 {color: black;}#sk-container-id-1 pre{padding: 0;}#sk-container-id-1 div.sk-toggleable {background-color: white;}#sk-container-id-1 label.sk-toggleable__label {cursor: pointer;display: block;width: 100%;margin-bottom: 0;padding: 0.3em;box-sizing: border-box;text-align: center;}#sk-container-id-1 label.sk-toggleable__label-arrow:before {content: \"▸\";float: left;margin-right: 0.25em;color: #696969;}#sk-container-id-1 label.sk-toggleable__label-arrow:hover:before {color: black;}#sk-container-id-1 div.sk-estimator:hover label.sk-toggleable__label-arrow:before {color: black;}#sk-container-id-1 div.sk-toggleable__content {max-height: 0;max-width: 0;overflow: hidden;text-align: left;background-color: #f0f8ff;}#sk-container-id-1 div.sk-toggleable__content pre {margin: 0.2em;color: black;border-radius: 0.25em;background-color: #f0f8ff;}#sk-container-id-1 input.sk-toggleable__control:checked~div.sk-toggleable__content {max-height: 200px;max-width: 100%;overflow: auto;}#sk-container-id-1 input.sk-toggleable__control:checked~label.sk-toggleable__label-arrow:before {content: \"▾\";}#sk-container-id-1 div.sk-estimator input.sk-toggleable__control:checked~label.sk-toggleable__label {background-color: #d4ebff;}#sk-container-id-1 div.sk-label input.sk-toggleable__control:checked~label.sk-toggleable__label {background-color: #d4ebff;}#sk-container-id-1 input.sk-hidden--visually {border: 0;clip: rect(1px 1px 1px 1px);clip: rect(1px, 1px, 1px, 1px);height: 1px;margin: -1px;overflow: hidden;padding: 0;position: absolute;width: 1px;}#sk-container-id-1 div.sk-estimator {font-family: monospace;background-color: #f0f8ff;border: 1px dotted black;border-radius: 0.25em;box-sizing: border-box;margin-bottom: 0.5em;}#sk-container-id-1 div.sk-estimator:hover {background-color: #d4ebff;}#sk-container-id-1 div.sk-parallel-item::after {content: \"\";width: 100%;border-bottom: 1px solid gray;flex-grow: 1;}#sk-container-id-1 div.sk-label:hover label.sk-toggleable__label {background-color: #d4ebff;}#sk-container-id-1 div.sk-serial::before {content: \"\";position: absolute;border-left: 1px solid gray;box-sizing: border-box;top: 0;bottom: 0;left: 50%;z-index: 0;}#sk-container-id-1 div.sk-serial {display: flex;flex-direction: column;align-items: center;background-color: white;padding-right: 0.2em;padding-left: 0.2em;position: relative;}#sk-container-id-1 div.sk-item {position: relative;z-index: 1;}#sk-container-id-1 div.sk-parallel {display: flex;align-items: stretch;justify-content: center;background-color: white;position: relative;}#sk-container-id-1 div.sk-item::before, #sk-container-id-1 div.sk-parallel-item::before {content: \"\";position: absolute;border-left: 1px solid gray;box-sizing: border-box;top: 0;bottom: 0;left: 50%;z-index: -1;}#sk-container-id-1 div.sk-parallel-item {display: flex;flex-direction: column;z-index: 1;position: relative;background-color: white;}#sk-container-id-1 div.sk-parallel-item:first-child::after {align-self: flex-end;width: 50%;}#sk-container-id-1 div.sk-parallel-item:last-child::after {align-self: flex-start;width: 50%;}#sk-container-id-1 div.sk-parallel-item:only-child::after {width: 0;}#sk-container-id-1 div.sk-dashed-wrapped {border: 1px dashed gray;margin: 0 0.4em 0.5em 0.4em;box-sizing: border-box;padding-bottom: 0.4em;background-color: white;}#sk-container-id-1 div.sk-label label {font-family: monospace;font-weight: bold;display: inline-block;line-height: 1.2em;}#sk-container-id-1 div.sk-label-container {text-align: center;}#sk-container-id-1 div.sk-container {/* jupyter's `normalize.less` sets `[hidden] { display: none; }` but bootstrap.min.css set `[hidden] { display: none !important; }` so we also need the `!important` here to be able to override the default hidden behavior on the sphinx rendered scikit-learn.org. See: https://github.com/scikit-learn/scikit-learn/issues/21755 */display: inline-block !important;position: relative;}#sk-container-id-1 div.sk-text-repr-fallback {display: none;}</style><div id=\"sk-container-id-1\" class=\"sk-top-container\"><div class=\"sk-text-repr-fallback\"><pre>GridSearchCV(cv=4, estimator=DecisionTreeClassifier(),\n",
       "             param_grid={&#x27;criterion&#x27;: [&#x27;entropy&#x27;, &#x27;gini&#x27;],\n",
       "                         &#x27;max_depth&#x27;: array([2, 3, 4, 5]),\n",
       "                         &#x27;min_impurity_decrease&#x27;: array([1.00000000e-10, 2.15443469e-08, 4.64158883e-06, 1.00000000e-03]),\n",
       "                         &#x27;min_samples_leaf&#x27;: array([1, 2]),\n",
       "                         &#x27;min_samples_split&#x27;: array([1, 2]),\n",
       "                         &#x27;min_weight_fraction_leaf&#x27;: array([1.00000000e-02, 1.77827941e-01, 3.16227766e+00, 5.62341325e+01,\n",
       "       1.00000000e+03]),\n",
       "                         &#x27;splitter&#x27;: [&#x27;best&#x27;, &#x27;random&#x27;]},\n",
       "             scoring=&#x27;accuracy&#x27;)</pre><b>In a Jupyter environment, please rerun this cell to show the HTML representation or trust the notebook. <br />On GitHub, the HTML representation is unable to render, please try loading this page with nbviewer.org.</b></div><div class=\"sk-container\" hidden><div class=\"sk-item sk-dashed-wrapped\"><div class=\"sk-label-container\"><div class=\"sk-label sk-toggleable\"><input class=\"sk-toggleable__control sk-hidden--visually\" id=\"sk-estimator-id-1\" type=\"checkbox\" ><label for=\"sk-estimator-id-1\" class=\"sk-toggleable__label sk-toggleable__label-arrow\">GridSearchCV</label><div class=\"sk-toggleable__content\"><pre>GridSearchCV(cv=4, estimator=DecisionTreeClassifier(),\n",
       "             param_grid={&#x27;criterion&#x27;: [&#x27;entropy&#x27;, &#x27;gini&#x27;],\n",
       "                         &#x27;max_depth&#x27;: array([2, 3, 4, 5]),\n",
       "                         &#x27;min_impurity_decrease&#x27;: array([1.00000000e-10, 2.15443469e-08, 4.64158883e-06, 1.00000000e-03]),\n",
       "                         &#x27;min_samples_leaf&#x27;: array([1, 2]),\n",
       "                         &#x27;min_samples_split&#x27;: array([1, 2]),\n",
       "                         &#x27;min_weight_fraction_leaf&#x27;: array([1.00000000e-02, 1.77827941e-01, 3.16227766e+00, 5.62341325e+01,\n",
       "       1.00000000e+03]),\n",
       "                         &#x27;splitter&#x27;: [&#x27;best&#x27;, &#x27;random&#x27;]},\n",
       "             scoring=&#x27;accuracy&#x27;)</pre></div></div></div><div class=\"sk-parallel\"><div class=\"sk-parallel-item\"><div class=\"sk-item\"><div class=\"sk-label-container\"><div class=\"sk-label sk-toggleable\"><input class=\"sk-toggleable__control sk-hidden--visually\" id=\"sk-estimator-id-2\" type=\"checkbox\" ><label for=\"sk-estimator-id-2\" class=\"sk-toggleable__label sk-toggleable__label-arrow\">estimator: DecisionTreeClassifier</label><div class=\"sk-toggleable__content\"><pre>DecisionTreeClassifier()</pre></div></div></div><div class=\"sk-serial\"><div class=\"sk-item\"><div class=\"sk-estimator sk-toggleable\"><input class=\"sk-toggleable__control sk-hidden--visually\" id=\"sk-estimator-id-3\" type=\"checkbox\" ><label for=\"sk-estimator-id-3\" class=\"sk-toggleable__label sk-toggleable__label-arrow\">DecisionTreeClassifier</label><div class=\"sk-toggleable__content\"><pre>DecisionTreeClassifier()</pre></div></div></div></div></div></div></div></div></div></div>"
      ],
      "text/plain": [
       "GridSearchCV(cv=4, estimator=DecisionTreeClassifier(),\n",
       "             param_grid={'criterion': ['entropy', 'gini'],\n",
       "                         'max_depth': array([2, 3, 4, 5]),\n",
       "                         'min_impurity_decrease': array([1.00000000e-10, 2.15443469e-08, 4.64158883e-06, 1.00000000e-03]),\n",
       "                         'min_samples_leaf': array([1, 2]),\n",
       "                         'min_samples_split': array([1, 2]),\n",
       "                         'min_weight_fraction_leaf': array([1.00000000e-02, 1.77827941e-01, 3.16227766e+00, 5.62341325e+01,\n",
       "       1.00000000e+03]),\n",
       "                         'splitter': ['best', 'random']},\n",
       "             scoring='accuracy')"
      ]
     },
     "execution_count": 16,
     "metadata": {},
     "output_type": "execute_result"
    }
   ],
   "source": [
    "from sklearn import model_selection\n",
    "\n",
    "params = {'criterion' : ['entropy','gini'],\n",
    "          'splitter' : ['best','random'],\n",
    "          'max_depth' : np.arange(2,6,1,dtype = int),\n",
    "          'min_samples_split' : np.arange(1,3,1,dtype = int),\n",
    "          'min_samples_leaf' : np.arange(1,3,1,dtype = int),\n",
    "          'min_weight_fraction_leaf' : np.logspace(-2,3,5),\n",
    "          'min_impurity_decrease' : np.logspace(-10,-3,4)\n",
    "        }\n",
    "DTC = tree.DecisionTreeClassifier()\n",
    "grid_cv = model_selection.GridSearchCV(DTC,param_grid= params,cv = 4,scoring='accuracy')\n",
    "grid_cv.fit(X_train_1,y_train_1)"
   ]
  },
  {
   "cell_type": "code",
   "execution_count": 17,
   "metadata": {},
   "outputs": [
    {
     "name": "stdout",
     "output_type": "stream",
     "text": [
      "{'criterion': 'entropy', 'max_depth': 2, 'min_impurity_decrease': 2.1544346900318866e-08, 'min_samples_leaf': 1, 'min_samples_split': 2, 'min_weight_fraction_leaf': 0.1778279410038923, 'splitter': 'random'}\n",
      "DecisionTreeClassifier(criterion='entropy', max_depth=2,\n",
      "                       min_impurity_decrease=2.1544346900318866e-08,\n",
      "                       min_weight_fraction_leaf=0.1778279410038923,\n",
      "                       splitter='random')\n",
      "Acuracy (on test set) =  0.6666666666666666\n",
      "              precision    recall  f1-score   support\n",
      "\n",
      "           1       0.75      0.75      0.75         4\n",
      "           2       0.33      0.50      0.40         2\n",
      "           3       0.60      0.75      0.67         4\n",
      "           4       1.00      0.60      0.75         5\n",
      "\n",
      "    accuracy                           0.67        15\n",
      "   macro avg       0.67      0.65      0.64        15\n",
      "weighted avg       0.74      0.67      0.68        15\n",
      "\n",
      "\n",
      " CONFUSION MATRIX\n",
      "[[3 1 0 0]\n",
      " [1 1 0 0]\n",
      " [0 1 3 0]\n",
      " [0 0 2 3]]\n"
     ]
    }
   ],
   "source": [
    "best_DTC = grid_cv.best_estimator_\n",
    "best_params = grid_cv.best_params_\n",
    "print(best_params)\n",
    "best_DTC = best_DTC.fit(X_train_1, y_train_1)\n",
    "\n",
    "# Evaluate acuracy on test data\n",
    "print(best_DTC)\n",
    "score = best_DTC.score(X_test_1, y_test_1)\n",
    "print(\"Acuracy (on test set) = \", score)\n",
    "y_true, y_pred = y_test_1, best_DTC.predict(X_test_1)\n",
    "print( classification_report(y_true, y_pred) )\n",
    "print(\"\\n CONFUSION MATRIX\")\n",
    "print( confusion_matrix(y_true, y_pred) )"
   ]
  }
 ],
 "metadata": {
  "kernelspec": {
   "display_name": "base",
   "language": "python",
   "name": "python3"
  },
  "language_info": {
   "codemirror_mode": {
    "name": "ipython",
    "version": 3
   },
   "file_extension": ".py",
   "mimetype": "text/x-python",
   "name": "python",
   "nbconvert_exporter": "python",
   "pygments_lexer": "ipython3",
   "version": "3.11.5"
  }
 },
 "nbformat": 4,
 "nbformat_minor": 2
}
