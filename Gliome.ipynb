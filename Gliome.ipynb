{
 "cells": [
  {
   "cell_type": "markdown",
   "metadata": {},
   "source": [
    "# __Mini Projet Apprentissage Artificiel__ "
   ]
  },
  {
   "cell_type": "markdown",
   "metadata": {},
   "source": [
    "We start by importing all the modules we will use in this notebook.\n",
    "We will use __sklearn__ as our main framework for ML."
   ]
  },
  {
   "cell_type": "code",
   "execution_count": 25,
   "metadata": {},
   "outputs": [],
   "source": [
    "import numpy as np\n",
    "import pandas as pd \n",
    "import scipy.io\n",
    "import sklearn\n",
    "import matplotlib as plt\n",
    "from urllib.request import urlretrieve\n",
    "import zipfile"
   ]
  },
  {
   "cell_type": "markdown",
   "metadata": {},
   "source": [
    "We then load our data and vizualize it."
   ]
  },
  {
   "cell_type": "code",
   "execution_count": 13,
   "metadata": {},
   "outputs": [
    {
     "name": "stdout",
     "output_type": "stream",
     "text": [
      "The data has the dimension : \n",
      " • Input size : (50, 4434) \n",
      " • Output size : (50,)\n"
     ]
    }
   ],
   "source": [
    "# path = \"./Projet_Expression.zip\"\n",
    "# urlretrieve(\"https://moodle.psl.eu/pluginfile.php/614743/mod_resource/content/14/Projet_Expression.zip\",path)\n",
    "# with zipfile.ZipFile(path,'r') as zip_ref:\n",
    "#     zip_ref.extractall(\"./Projet_Expression\")\n",
    "\n",
    "data_matrix = scipy.io.loadmat(\"./Projet_Expression/gliome.mat\")\n",
    "X = data_matrix['X']\n",
    "y = data_matrix['Y'][:, 0] \n",
    "\n",
    "print(f\"The data has the dimension : \\n • Input size : {X.shape} \\n • Output size : {y.shape}\")"
   ]
  },
  {
   "cell_type": "code",
   "execution_count": 24,
   "metadata": {},
   "outputs": [
    {
     "data": {
      "text/html": [
       "<div>\n",
       "<style scoped>\n",
       "    .dataframe tbody tr th:only-of-type {\n",
       "        vertical-align: middle;\n",
       "    }\n",
       "\n",
       "    .dataframe tbody tr th {\n",
       "        vertical-align: top;\n",
       "    }\n",
       "\n",
       "    .dataframe thead th {\n",
       "        text-align: right;\n",
       "    }\n",
       "</style>\n",
       "<table border=\"1\" class=\"dataframe\">\n",
       "  <thead>\n",
       "    <tr style=\"text-align: right;\">\n",
       "      <th></th>\n",
       "      <th>0</th>\n",
       "      <th>1</th>\n",
       "      <th>2</th>\n",
       "      <th>3</th>\n",
       "      <th>4</th>\n",
       "      <th>5</th>\n",
       "      <th>6</th>\n",
       "      <th>7</th>\n",
       "      <th>8</th>\n",
       "      <th>9</th>\n",
       "      <th>...</th>\n",
       "      <th>4425</th>\n",
       "      <th>4426</th>\n",
       "      <th>4427</th>\n",
       "      <th>4428</th>\n",
       "      <th>4429</th>\n",
       "      <th>4430</th>\n",
       "      <th>4431</th>\n",
       "      <th>4432</th>\n",
       "      <th>4433</th>\n",
       "      <th>y</th>\n",
       "    </tr>\n",
       "  </thead>\n",
       "  <tbody>\n",
       "    <tr>\n",
       "      <th>0</th>\n",
       "      <td>1.877947</td>\n",
       "      <td>1.301030</td>\n",
       "      <td>1.950365</td>\n",
       "      <td>2.765147</td>\n",
       "      <td>2.383456</td>\n",
       "      <td>1.935003</td>\n",
       "      <td>1.805501</td>\n",
       "      <td>1.489958</td>\n",
       "      <td>1.949878</td>\n",
       "      <td>1.984977</td>\n",
       "      <td>...</td>\n",
       "      <td>3.593485</td>\n",
       "      <td>1.686636</td>\n",
       "      <td>1.301030</td>\n",
       "      <td>1.309630</td>\n",
       "      <td>2.062958</td>\n",
       "      <td>1.332438</td>\n",
       "      <td>2.113275</td>\n",
       "      <td>2.609381</td>\n",
       "      <td>3.687966</td>\n",
       "      <td>1</td>\n",
       "    </tr>\n",
       "    <tr>\n",
       "      <th>1</th>\n",
       "      <td>2.651036</td>\n",
       "      <td>2.290211</td>\n",
       "      <td>2.436589</td>\n",
       "      <td>2.427530</td>\n",
       "      <td>2.818690</td>\n",
       "      <td>2.228490</td>\n",
       "      <td>2.174424</td>\n",
       "      <td>2.106459</td>\n",
       "      <td>2.091490</td>\n",
       "      <td>2.137432</td>\n",
       "      <td>...</td>\n",
       "      <td>3.498401</td>\n",
       "      <td>2.493015</td>\n",
       "      <td>1.766260</td>\n",
       "      <td>1.869179</td>\n",
       "      <td>2.238474</td>\n",
       "      <td>1.301030</td>\n",
       "      <td>1.929475</td>\n",
       "      <td>2.519645</td>\n",
       "      <td>3.951704</td>\n",
       "      <td>1</td>\n",
       "    </tr>\n",
       "    <tr>\n",
       "      <th>2</th>\n",
       "      <td>2.221108</td>\n",
       "      <td>2.302321</td>\n",
       "      <td>3.045137</td>\n",
       "      <td>2.438125</td>\n",
       "      <td>2.462685</td>\n",
       "      <td>1.971209</td>\n",
       "      <td>2.288998</td>\n",
       "      <td>1.436299</td>\n",
       "      <td>2.041398</td>\n",
       "      <td>2.232764</td>\n",
       "      <td>...</td>\n",
       "      <td>3.586848</td>\n",
       "      <td>2.300823</td>\n",
       "      <td>1.886583</td>\n",
       "      <td>1.806535</td>\n",
       "      <td>1.301030</td>\n",
       "      <td>1.861657</td>\n",
       "      <td>1.301030</td>\n",
       "      <td>1.301030</td>\n",
       "      <td>3.705766</td>\n",
       "      <td>1</td>\n",
       "    </tr>\n",
       "    <tr>\n",
       "      <th>3</th>\n",
       "      <td>2.168830</td>\n",
       "      <td>2.125105</td>\n",
       "      <td>2.993723</td>\n",
       "      <td>2.253585</td>\n",
       "      <td>2.675738</td>\n",
       "      <td>2.120541</td>\n",
       "      <td>2.464906</td>\n",
       "      <td>1.484127</td>\n",
       "      <td>1.978128</td>\n",
       "      <td>2.364278</td>\n",
       "      <td>...</td>\n",
       "      <td>3.498593</td>\n",
       "      <td>2.439544</td>\n",
       "      <td>1.881537</td>\n",
       "      <td>1.934864</td>\n",
       "      <td>1.301030</td>\n",
       "      <td>1.301030</td>\n",
       "      <td>1.301030</td>\n",
       "      <td>1.838071</td>\n",
       "      <td>3.826369</td>\n",
       "      <td>1</td>\n",
       "    </tr>\n",
       "    <tr>\n",
       "      <th>4</th>\n",
       "      <td>2.575785</td>\n",
       "      <td>1.705988</td>\n",
       "      <td>2.513637</td>\n",
       "      <td>2.906606</td>\n",
       "      <td>2.578367</td>\n",
       "      <td>2.200210</td>\n",
       "      <td>2.367455</td>\n",
       "      <td>1.959123</td>\n",
       "      <td>1.897500</td>\n",
       "      <td>1.956192</td>\n",
       "      <td>...</td>\n",
       "      <td>3.437832</td>\n",
       "      <td>2.224660</td>\n",
       "      <td>1.593090</td>\n",
       "      <td>1.761575</td>\n",
       "      <td>1.301030</td>\n",
       "      <td>1.602045</td>\n",
       "      <td>1.410159</td>\n",
       "      <td>1.847608</td>\n",
       "      <td>4.082294</td>\n",
       "      <td>1</td>\n",
       "    </tr>\n",
       "  </tbody>\n",
       "</table>\n",
       "<p>5 rows × 4435 columns</p>\n",
       "</div>"
      ],
      "text/plain": [
       "          0         1         2         3         4         5         6  \\\n",
       "0  1.877947  1.301030  1.950365  2.765147  2.383456  1.935003  1.805501   \n",
       "1  2.651036  2.290211  2.436589  2.427530  2.818690  2.228490  2.174424   \n",
       "2  2.221108  2.302321  3.045137  2.438125  2.462685  1.971209  2.288998   \n",
       "3  2.168830  2.125105  2.993723  2.253585  2.675738  2.120541  2.464906   \n",
       "4  2.575785  1.705988  2.513637  2.906606  2.578367  2.200210  2.367455   \n",
       "\n",
       "          7         8         9  ...      4425      4426      4427      4428  \\\n",
       "0  1.489958  1.949878  1.984977  ...  3.593485  1.686636  1.301030  1.309630   \n",
       "1  2.106459  2.091490  2.137432  ...  3.498401  2.493015  1.766260  1.869179   \n",
       "2  1.436299  2.041398  2.232764  ...  3.586848  2.300823  1.886583  1.806535   \n",
       "3  1.484127  1.978128  2.364278  ...  3.498593  2.439544  1.881537  1.934864   \n",
       "4  1.959123  1.897500  1.956192  ...  3.437832  2.224660  1.593090  1.761575   \n",
       "\n",
       "       4429      4430      4431      4432      4433  y  \n",
       "0  2.062958  1.332438  2.113275  2.609381  3.687966  1  \n",
       "1  2.238474  1.301030  1.929475  2.519645  3.951704  1  \n",
       "2  1.301030  1.861657  1.301030  1.301030  3.705766  1  \n",
       "3  1.301030  1.301030  1.301030  1.838071  3.826369  1  \n",
       "4  1.301030  1.602045  1.410159  1.847608  4.082294  1  \n",
       "\n",
       "[5 rows x 4435 columns]"
      ]
     },
     "execution_count": 24,
     "metadata": {},
     "output_type": "execute_result"
    }
   ],
   "source": [
    "df = pd.DataFrame(X)\n",
    "df['y'] = y\n",
    "df.head()"
   ]
  },
  {
   "cell_type": "markdown",
   "metadata": {},
   "source": [
    "This problem is a supervised classification problem. \n",
    "We will try 2 different models to classify our data into 4 differents classes (gliome types)\n",
    "\n",
    "First we need to split our data into 3 sets : Train, Validation, Test\n",
    "In order to compare performances on different training set, we will generate 2 triplets of sets."
   ]
  },
  {
   "cell_type": "code",
   "execution_count": 27,
   "metadata": {},
   "outputs": [],
   "source": [
    "from sklearn.model_selection import train_test_split\n",
    "\n",
    "X_train_1, X_test_1, y_train_1, y_test_1 = train_test_split(X, y, test_size=0.3,random_state=84, stratify=y)\n",
    "# X_train_1, X_valid_1, y_train_1, y_valid_1 = train_test_split(X_temp_1, y_temp_1, test_size= 0.3)\n",
    "\n",
    "X_train_2, X_test_2, y_train_2, y_test_2 = train_test_split(X, y, test_size=0.3,random_state=84, stratify=y)\n",
    "# X_train_2, X_valid_2, y_train_2, y_valid_2 = train_test_split(X_temp_1, y_temp_1, test_size= 0.3)"
   ]
  },
  {
   "cell_type": "code",
   "execution_count": null,
   "metadata": {},
   "outputs": [],
   "source": [
    "plt.subplot(2, 2, 1)\n",
    "plt.hist(y_test_1)\n",
    "plt.xlabel('Test Labels 1')\n",
    "plt.subplot(2, 2, 2)\n",
    "plt.hist(y_train_1)\n",
    "plt.xlabel('Train Labels 1')\n",
    "plt.subplot(2, 2, 3)\n",
    "plt.hist(y_test_2)\n",
    "plt.xlabel('Test Labels 2')\n",
    "plt.subplot(2, 2, 4)\n",
    "plt.hist(y_train_2)\n",
    "plt.xlabel('Train Labels 2')"
   ]
  },
  {
   "cell_type": "markdown",
   "metadata": {},
   "source": [
    "\n",
    "### Random Forest Decision Tree Classifier (RFD)"
   ]
  },
  {
   "cell_type": "code",
   "execution_count": 29,
   "metadata": {},
   "outputs": [
    {
     "name": "stdout",
     "output_type": "stream",
     "text": [
      "DecisionTreeClassifier(max_depth=5, min_impurity_decrease=1e-07,\n",
      "                       min_samples_split=4)\n",
      "Acuracy (on test set) =  0.6\n",
      "              precision    recall  f1-score   support\n",
      "\n",
      "           1       0.50      1.00      0.67         4\n",
      "           2       1.00      0.25      0.40         4\n",
      "           3       0.50      0.33      0.40         3\n",
      "           4       0.75      0.75      0.75         4\n",
      "\n",
      "    accuracy                           0.60        15\n",
      "   macro avg       0.69      0.58      0.55        15\n",
      "weighted avg       0.70      0.60      0.56        15\n",
      "\n",
      "\n",
      " CONFUSION MATRIX\n",
      "[[4 0 0 0]\n",
      " [3 1 0 0]\n",
      " [1 0 1 1]\n",
      " [0 0 1 3]]\n"
     ]
    }
   ],
   "source": [
    "from sklearn.ensemble import RandomForestClassifier\n",
    "from sklearn import tree\n",
    "\n",
    "clf = tree.DecisionTreeClassifier(criterion='gini', splitter='best', max_depth=5, \n",
    "                                  min_samples_split=2, min_samples_leaf=1, \n",
    "                                  min_weight_fraction_leaf=0.0, max_features=None, \n",
    "                                  random_state=None, max_leaf_nodes=None, \n",
    "                                  min_impurity_decrease=1e-07, class_weight=None)\n",
    "clf = clf.fit(X_train_1, y_train_1)\n",
    "\n",
    "\n",
    "# Evaluate acuracy on test data\n",
    "print(clf)\n",
    "score = clf.score(X_test_1, y_test_1)\n",
    "print(\"Acuracy (on test set) = \", score)\n",
    "from sklearn.metrics import classification_report\n",
    "from sklearn.metrics import confusion_matrix\n",
    "y_true, y_pred = y_test_1, clf.predict(X_test_1)\n",
    "print( classification_report(y_true, y_pred) )\n",
    "print(\"\\n CONFUSION MATRIX\")\n",
    "print( confusion_matrix(y_true, y_pred) )\n"
   ]
  },
  {
   "cell_type": "code",
   "execution_count": 30,
   "metadata": {},
   "outputs": [
    {
     "name": "stderr",
     "output_type": "stream",
     "text": [
      "c:\\Users\\pierr\\miniconda3\\Lib\\site-packages\\sklearn\\model_selection\\_split.py:737: UserWarning: The least populated class in y has only 3 members, which is less than n_splits=5.\n",
      "  warnings.warn(\n"
     ]
    }
   ],
   "source": [
    "from sklearn import model_selection\n",
    "\n",
    "params = {'criterion' : ['entropy','gini'],\n",
    "          'splitter' : ['best','random'],\n",
    "          'max_depth' : np.arange(1,10,1,dtype = int),\n",
    "          'min_samples_split' : np.arange(1,3,1,dtype = int),\n",
    "          'min_samples_leaf' : np.arange(1,4,1,dtype = int),\n",
    "          'min_weight_fraction_leaf' : np.logspace(-2,3,10),\n",
    "          'min_impurity_decrease' : np.logspace(-10,-3,7)\n",
    "        }\n",
    "DTC = tree.DecisionTreeClassifier()\n",
    "grid_cv = model_selection.GridSearchCV(DTC,param_grid= params,cv = 5,scoring='accuracy')\n",
    "grid_cv.fit(X_train_1,y_train_1)"
   ]
  },
  {
   "cell_type": "code",
   "execution_count": null,
   "metadata": {},
   "outputs": [],
   "source": [
    "best_DTC = grid_cv.best_estimator_\n",
    "best_params = grid_cv.best_params_\n",
    "print(best_params)\n",
    "best_DTC = best_DTC.fit(X_train_1, y_train_1)\n",
    "\n",
    "# Evaluate acuracy on test data\n",
    "print(best_DTC)\n",
    "score = best_DTC.score(X_test_1, y_test_1)\n",
    "print(\"Acuracy (on test set) = \", score)\n",
    "y_true, y_pred = y_test_1, best_DTC.predict(X_test_1)\n",
    "print( classification_report(y_true, y_pred) )\n",
    "print(\"\\n CONFUSION MATRIX\")\n",
    "print( confusion_matrix(y_true, y_pred) )"
   ]
  }
 ],
 "metadata": {
  "kernelspec": {
   "display_name": "base",
   "language": "python",
   "name": "python3"
  },
  "language_info": {
   "codemirror_mode": {
    "name": "ipython",
    "version": 3
   },
   "file_extension": ".py",
   "mimetype": "text/x-python",
   "name": "python",
   "nbconvert_exporter": "python",
   "pygments_lexer": "ipython3",
   "version": "3.11.5"
  }
 },
 "nbformat": 4,
 "nbformat_minor": 2
}
